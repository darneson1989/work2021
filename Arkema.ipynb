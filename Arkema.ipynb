{
 "cells": [
  {
   "cell_type": "code",
   "execution_count": 1,
   "metadata": {},
   "outputs": [],
   "source": [
    "import pandas as pd\n",
    "import matplotlib.pyplot as plt\n",
    "import seaborn as sns\n",
    "import os"
   ]
  },
  {
   "cell_type": "code",
   "execution_count": 2,
   "metadata": {},
   "outputs": [],
   "source": [
    "nov16 = pd.read_csv('/Users/danielle.arneson/Desktop/11.16_RegSnap.csv')\n",
    "nov17 = pd.read_csv('/Users/danielle.arneson/Desktop/NEW_11.17Snap.csv')"
   ]
  },
  {
   "cell_type": "code",
   "execution_count": 3,
   "metadata": {},
   "outputs": [
    {
     "name": "stdout",
     "output_type": "stream",
     "text": [
      "<class 'pandas.core.frame.DataFrame'>\n",
      "RangeIndex: 3049 entries, 0 to 3048\n",
      "Data columns (total 22 columns):\n",
      " #   Column                                    Non-Null Count  Dtype  \n",
      "---  ------                                    --------------  -----  \n",
      " 0   #1_amp_vendor_id_is_aduro_basics          3049 non-null   int64  \n",
      " 1   #2_temp_pw_is_false                       3049 non-null   int64  \n",
      " 2   #3_amp_matches_aduro_id_pattern           3049 non-null   int64  \n",
      " 3   #4_amp_authen_type_is_AWS_Cognito         3049 non-null   int64  \n",
      " 4   #5a_amp_company_has_users_has_user_id     3049 non-null   int64  \n",
      " 5   #5b_amp_company_has_users_has_company_id  3049 non-null   int64  \n",
      " 6   #6_program_service_program_user_has_user  3049 non-null   int64  \n",
      " 7   sum_of_reg_score                          3049 non-null   int64  \n",
      " 8   aduro_id                                  3049 non-null   object \n",
      " 9   amp_record_exists                         3049 non-null   bool   \n",
      " 10  amp_is_enabled                            1747 non-null   object \n",
      " 11  amp_email_confirmed                       1747 non-null   object \n",
      " 12  account_created                           3049 non-null   bool   \n",
      " 13  amp_authen_type                           60 non-null     object \n",
      " 14  account_status                            122 non-null    object \n",
      " 15  es_email                                  2467 non-null   object \n",
      " 16  amp_email                                 1747 non-null   object \n",
      " 17  es_interface_id                           2741 non-null   object \n",
      " 18  employer_id                               3049 non-null   object \n",
      " 19  program_service_employer_id               470 non-null    object \n",
      " 20  amp_employer_id                           1745 non-null   object \n",
      " 21  amp_client_id                             0 non-null      float64\n",
      "dtypes: bool(2), float64(1), int64(8), object(11)\n",
      "memory usage: 482.5+ KB\n"
     ]
    }
   ],
   "source": [
    "nov17.info()"
   ]
  },
  {
   "cell_type": "code",
   "execution_count": 4,
   "metadata": {},
   "outputs": [
    {
     "name": "stdout",
     "output_type": "stream",
     "text": [
      "<class 'pandas.core.frame.DataFrame'>\n",
      "RangeIndex: 3054 entries, 0 to 3053\n",
      "Data columns (total 22 columns):\n",
      " #   Column                                    Non-Null Count  Dtype  \n",
      "---  ------                                    --------------  -----  \n",
      " 0   #1_amp_vendor_id_is_aduro_basics          3054 non-null   int64  \n",
      " 1   #2_temp_pw_is_false                       3054 non-null   int64  \n",
      " 2   #3_amp_matches_aduro_id_pattern           3054 non-null   int64  \n",
      " 3   #4_amp_authen_type_is_AWS_Cognito         3054 non-null   int64  \n",
      " 4   #5a_amp_company_has_users_has_user_id     3054 non-null   int64  \n",
      " 5   #5b_amp_company_has_users_has_company_id  3054 non-null   int64  \n",
      " 6   #6_program_service_program_user_has_user  3054 non-null   int64  \n",
      " 7   sum_of_reg_score                          3054 non-null   int64  \n",
      " 8   aduro_id                                  3054 non-null   object \n",
      " 9   amp_record_exists                         3054 non-null   bool   \n",
      " 10  amp_is_enabled                            1662 non-null   object \n",
      " 11  amp_email_confirmed                       1662 non-null   object \n",
      " 12  account_created                           3054 non-null   bool   \n",
      " 13  amp_authen_type                           49 non-null     object \n",
      " 14  account_status                            127 non-null    object \n",
      " 15  es_email                                  2472 non-null   object \n",
      " 16  amp_email                                 1662 non-null   object \n",
      " 17  es_interface_id                           2746 non-null   object \n",
      " 18  employer_id                               3054 non-null   object \n",
      " 19  program_service_employer_id               475 non-null    object \n",
      " 20  amp_employer_id                           1660 non-null   object \n",
      " 21  amp_client_id                             0 non-null      float64\n",
      "dtypes: bool(2), float64(1), int64(8), object(11)\n",
      "memory usage: 483.3+ KB\n"
     ]
    }
   ],
   "source": [
    "nov16.info()"
   ]
  },
  {
   "cell_type": "code",
   "execution_count": 5,
   "metadata": {},
   "outputs": [
    {
     "data": {
      "text/html": [
       "<div>\n",
       "<style scoped>\n",
       "    .dataframe tbody tr th:only-of-type {\n",
       "        vertical-align: middle;\n",
       "    }\n",
       "\n",
       "    .dataframe tbody tr th {\n",
       "        vertical-align: top;\n",
       "    }\n",
       "\n",
       "    .dataframe thead th {\n",
       "        text-align: right;\n",
       "    }\n",
       "</style>\n",
       "<table border=\"1\" class=\"dataframe\">\n",
       "  <thead>\n",
       "    <tr style=\"text-align: right;\">\n",
       "      <th></th>\n",
       "      <th>#1_amp_vendor_id_is_aduro_basics</th>\n",
       "      <th>#2_temp_pw_is_false</th>\n",
       "      <th>#3_amp_matches_aduro_id_pattern</th>\n",
       "      <th>#4_amp_authen_type_is_AWS_Cognito</th>\n",
       "      <th>#5a_amp_company_has_users_has_user_id</th>\n",
       "      <th>#5b_amp_company_has_users_has_company_id</th>\n",
       "      <th>#6_program_service_program_user_has_user</th>\n",
       "      <th>sum_of_reg_score</th>\n",
       "      <th>aduro_id</th>\n",
       "      <th>amp_record_exists</th>\n",
       "      <th>...</th>\n",
       "      <th>account_created</th>\n",
       "      <th>amp_authen_type</th>\n",
       "      <th>account_status</th>\n",
       "      <th>es_email</th>\n",
       "      <th>amp_email</th>\n",
       "      <th>es_interface_id</th>\n",
       "      <th>employer_id</th>\n",
       "      <th>program_service_employer_id</th>\n",
       "      <th>amp_employer_id</th>\n",
       "      <th>amp_client_id</th>\n",
       "    </tr>\n",
       "  </thead>\n",
       "  <tbody>\n",
       "    <tr>\n",
       "      <th>0</th>\n",
       "      <td>0</td>\n",
       "      <td>0</td>\n",
       "      <td>0</td>\n",
       "      <td>0</td>\n",
       "      <td>0</td>\n",
       "      <td>0</td>\n",
       "      <td>0</td>\n",
       "      <td>0</td>\n",
       "      <td>000398c2-673d-4314-a76c-ac5759c7a018</td>\n",
       "      <td>False</td>\n",
       "      <td>...</td>\n",
       "      <td>False</td>\n",
       "      <td>NaN</td>\n",
       "      <td>NaN</td>\n",
       "      <td>jeanninemylott@yahoo.com</td>\n",
       "      <td>NaN</td>\n",
       "      <td>df9c9abf-6342-40d6-ade5-97456eb4401b</td>\n",
       "      <td>bb8325f2-3a5a-4ec1-8c30-c262eb5c0539</td>\n",
       "      <td>bb8325f2-3a5a-4ec1-8c30-c262eb5c0539</td>\n",
       "      <td>NaN</td>\n",
       "      <td>NaN</td>\n",
       "    </tr>\n",
       "    <tr>\n",
       "      <th>1</th>\n",
       "      <td>1</td>\n",
       "      <td>1</td>\n",
       "      <td>1</td>\n",
       "      <td>0</td>\n",
       "      <td>1</td>\n",
       "      <td>0</td>\n",
       "      <td>0</td>\n",
       "      <td>4</td>\n",
       "      <td>002754a1-8376-4805-b942-d567bf775748</td>\n",
       "      <td>True</td>\n",
       "      <td>...</td>\n",
       "      <td>False</td>\n",
       "      <td>NaN</td>\n",
       "      <td>NaN</td>\n",
       "      <td>reganemerson@yahoo.com</td>\n",
       "      <td>reganemerson@yahoo.com</td>\n",
       "      <td>0715e692-8325-4996-8e1f-f6765ceb7f0b</td>\n",
       "      <td>bb8325f2-3a5a-4ec1-8c30-c262eb5c0539</td>\n",
       "      <td>NaN</td>\n",
       "      <td>107575</td>\n",
       "      <td>NaN</td>\n",
       "    </tr>\n",
       "    <tr>\n",
       "      <th>2</th>\n",
       "      <td>1</td>\n",
       "      <td>1</td>\n",
       "      <td>1</td>\n",
       "      <td>0</td>\n",
       "      <td>0</td>\n",
       "      <td>0</td>\n",
       "      <td>0</td>\n",
       "      <td>3</td>\n",
       "      <td>002cd3e4-634f-4270-a7e0-ef83c4b4009f</td>\n",
       "      <td>True</td>\n",
       "      <td>...</td>\n",
       "      <td>False</td>\n",
       "      <td>NaN</td>\n",
       "      <td>NaN</td>\n",
       "      <td>jeremy.mott@bostik.com</td>\n",
       "      <td>jeremy.mott@bostik.com</td>\n",
       "      <td>303925d3-035e-40ea-80b0-fd5eee402e85</td>\n",
       "      <td>bb8325f2-3a5a-4ec1-8c30-c262eb5c0539</td>\n",
       "      <td>NaN</td>\n",
       "      <td>bb8325f2-3a5a-4ec1-8c30-c262eb5c0539</td>\n",
       "      <td>NaN</td>\n",
       "    </tr>\n",
       "    <tr>\n",
       "      <th>3</th>\n",
       "      <td>0</td>\n",
       "      <td>0</td>\n",
       "      <td>0</td>\n",
       "      <td>0</td>\n",
       "      <td>0</td>\n",
       "      <td>0</td>\n",
       "      <td>0</td>\n",
       "      <td>0</td>\n",
       "      <td>002e64cb-ce59-451f-9475-030f7e7a71fb</td>\n",
       "      <td>False</td>\n",
       "      <td>...</td>\n",
       "      <td>False</td>\n",
       "      <td>NaN</td>\n",
       "      <td>NaN</td>\n",
       "      <td>vahora.sahista4@gmail.com</td>\n",
       "      <td>NaN</td>\n",
       "      <td>3266a411-ec09-46a4-8a64-10ebb7462c16</td>\n",
       "      <td>bb8325f2-3a5a-4ec1-8c30-c262eb5c0539</td>\n",
       "      <td>NaN</td>\n",
       "      <td>NaN</td>\n",
       "      <td>NaN</td>\n",
       "    </tr>\n",
       "    <tr>\n",
       "      <th>4</th>\n",
       "      <td>1</td>\n",
       "      <td>1</td>\n",
       "      <td>1</td>\n",
       "      <td>0</td>\n",
       "      <td>0</td>\n",
       "      <td>0</td>\n",
       "      <td>0</td>\n",
       "      <td>3</td>\n",
       "      <td>0031e745-4bf9-441c-926e-4cb01422eaf2</td>\n",
       "      <td>True</td>\n",
       "      <td>...</td>\n",
       "      <td>False</td>\n",
       "      <td>NaN</td>\n",
       "      <td>NaN</td>\n",
       "      <td>a0000763@arkema.com</td>\n",
       "      <td>a0000763@arkema.com</td>\n",
       "      <td>1755f519-bda5-4900-9e63-495494382f6a</td>\n",
       "      <td>bb8325f2-3a5a-4ec1-8c30-c262eb5c0539</td>\n",
       "      <td>NaN</td>\n",
       "      <td>bb8325f2-3a5a-4ec1-8c30-c262eb5c0539</td>\n",
       "      <td>NaN</td>\n",
       "    </tr>\n",
       "  </tbody>\n",
       "</table>\n",
       "<p>5 rows × 22 columns</p>\n",
       "</div>"
      ],
      "text/plain": [
       "   #1_amp_vendor_id_is_aduro_basics  #2_temp_pw_is_false  \\\n",
       "0                                 0                    0   \n",
       "1                                 1                    1   \n",
       "2                                 1                    1   \n",
       "3                                 0                    0   \n",
       "4                                 1                    1   \n",
       "\n",
       "   #3_amp_matches_aduro_id_pattern  #4_amp_authen_type_is_AWS_Cognito  \\\n",
       "0                                0                                  0   \n",
       "1                                1                                  0   \n",
       "2                                1                                  0   \n",
       "3                                0                                  0   \n",
       "4                                1                                  0   \n",
       "\n",
       "   #5a_amp_company_has_users_has_user_id  \\\n",
       "0                                      0   \n",
       "1                                      1   \n",
       "2                                      0   \n",
       "3                                      0   \n",
       "4                                      0   \n",
       "\n",
       "   #5b_amp_company_has_users_has_company_id  \\\n",
       "0                                         0   \n",
       "1                                         0   \n",
       "2                                         0   \n",
       "3                                         0   \n",
       "4                                         0   \n",
       "\n",
       "   #6_program_service_program_user_has_user  sum_of_reg_score  \\\n",
       "0                                         0                 0   \n",
       "1                                         0                 4   \n",
       "2                                         0                 3   \n",
       "3                                         0                 0   \n",
       "4                                         0                 3   \n",
       "\n",
       "                               aduro_id  amp_record_exists  ...  \\\n",
       "0  000398c2-673d-4314-a76c-ac5759c7a018              False  ...   \n",
       "1  002754a1-8376-4805-b942-d567bf775748               True  ...   \n",
       "2  002cd3e4-634f-4270-a7e0-ef83c4b4009f               True  ...   \n",
       "3  002e64cb-ce59-451f-9475-030f7e7a71fb              False  ...   \n",
       "4  0031e745-4bf9-441c-926e-4cb01422eaf2               True  ...   \n",
       "\n",
       "  account_created amp_authen_type  account_status                   es_email  \\\n",
       "0           False             NaN             NaN   jeanninemylott@yahoo.com   \n",
       "1           False             NaN             NaN     reganemerson@yahoo.com   \n",
       "2           False             NaN             NaN     jeremy.mott@bostik.com   \n",
       "3           False             NaN             NaN  vahora.sahista4@gmail.com   \n",
       "4           False             NaN             NaN        a0000763@arkema.com   \n",
       "\n",
       "                amp_email                       es_interface_id  \\\n",
       "0                     NaN  df9c9abf-6342-40d6-ade5-97456eb4401b   \n",
       "1  reganemerson@yahoo.com  0715e692-8325-4996-8e1f-f6765ceb7f0b   \n",
       "2  jeremy.mott@bostik.com  303925d3-035e-40ea-80b0-fd5eee402e85   \n",
       "3                     NaN  3266a411-ec09-46a4-8a64-10ebb7462c16   \n",
       "4     a0000763@arkema.com  1755f519-bda5-4900-9e63-495494382f6a   \n",
       "\n",
       "                            employer_id           program_service_employer_id  \\\n",
       "0  bb8325f2-3a5a-4ec1-8c30-c262eb5c0539  bb8325f2-3a5a-4ec1-8c30-c262eb5c0539   \n",
       "1  bb8325f2-3a5a-4ec1-8c30-c262eb5c0539                                   NaN   \n",
       "2  bb8325f2-3a5a-4ec1-8c30-c262eb5c0539                                   NaN   \n",
       "3  bb8325f2-3a5a-4ec1-8c30-c262eb5c0539                                   NaN   \n",
       "4  bb8325f2-3a5a-4ec1-8c30-c262eb5c0539                                   NaN   \n",
       "\n",
       "                        amp_employer_id amp_client_id  \n",
       "0                                   NaN           NaN  \n",
       "1                                107575           NaN  \n",
       "2  bb8325f2-3a5a-4ec1-8c30-c262eb5c0539           NaN  \n",
       "3                                   NaN           NaN  \n",
       "4  bb8325f2-3a5a-4ec1-8c30-c262eb5c0539           NaN  \n",
       "\n",
       "[5 rows x 22 columns]"
      ]
     },
     "execution_count": 5,
     "metadata": {},
     "output_type": "execute_result"
    }
   ],
   "source": [
    "nov17.head()"
   ]
  },
  {
   "cell_type": "code",
   "execution_count": 6,
   "metadata": {},
   "outputs": [
    {
     "data": {
      "text/plain": [
       "1    1747\n",
       "0    1302\n",
       "Name: #1_amp_vendor_id_is_aduro_basics, dtype: int64"
      ]
     },
     "execution_count": 6,
     "metadata": {},
     "output_type": "execute_result"
    }
   ],
   "source": [
    "nov17['#1_amp_vendor_id_is_aduro_basics'].value_counts()"
   ]
  },
  {
   "cell_type": "code",
   "execution_count": 7,
   "metadata": {},
   "outputs": [
    {
     "data": {
      "text/plain": [
       "1    1708\n",
       "0    1341\n",
       "Name: #2_temp_pw_is_false, dtype: int64"
      ]
     },
     "execution_count": 7,
     "metadata": {},
     "output_type": "execute_result"
    }
   ],
   "source": [
    "nov17['#2_temp_pw_is_false'].value_counts()"
   ]
  },
  {
   "cell_type": "code",
   "execution_count": 8,
   "metadata": {},
   "outputs": [
    {
     "data": {
      "text/plain": [
       "1    1747\n",
       "0    1302\n",
       "Name: #3_amp_matches_aduro_id_pattern, dtype: int64"
      ]
     },
     "execution_count": 8,
     "metadata": {},
     "output_type": "execute_result"
    }
   ],
   "source": [
    "nov17['#3_amp_matches_aduro_id_pattern'].value_counts()"
   ]
  },
  {
   "cell_type": "code",
   "execution_count": 9,
   "metadata": {},
   "outputs": [
    {
     "data": {
      "text/plain": [
       "0    2989\n",
       "1      60\n",
       "Name: #4_amp_authen_type_is_AWS_Cognito, dtype: int64"
      ]
     },
     "execution_count": 9,
     "metadata": {},
     "output_type": "execute_result"
    }
   ],
   "source": [
    "nov17['#4_amp_authen_type_is_AWS_Cognito'].value_counts()"
   ]
  },
  {
   "cell_type": "code",
   "execution_count": 10,
   "metadata": {},
   "outputs": [
    {
     "data": {
      "text/plain": [
       "0    2912\n",
       "1     137\n",
       "Name: #5a_amp_company_has_users_has_user_id, dtype: int64"
      ]
     },
     "execution_count": 10,
     "metadata": {},
     "output_type": "execute_result"
    }
   ],
   "source": [
    "nov17['#5a_amp_company_has_users_has_user_id'].value_counts()"
   ]
  },
  {
   "cell_type": "code",
   "execution_count": 11,
   "metadata": {},
   "outputs": [
    {
     "data": {
      "text/plain": [
       "0    3049\n",
       "Name: #5b_amp_company_has_users_has_company_id, dtype: int64"
      ]
     },
     "execution_count": 11,
     "metadata": {},
     "output_type": "execute_result"
    }
   ],
   "source": [
    "nov17['#5b_amp_company_has_users_has_company_id'].value_counts()"
   ]
  },
  {
   "cell_type": "code",
   "execution_count": 12,
   "metadata": {},
   "outputs": [
    {
     "data": {
      "text/plain": [
       "0    3049\n",
       "Name: #6_program_service_program_user_has_user, dtype: int64"
      ]
     },
     "execution_count": 12,
     "metadata": {},
     "output_type": "execute_result"
    }
   ],
   "source": [
    "nov17['#6_program_service_program_user_has_user'].value_counts()"
   ]
  },
  {
   "cell_type": "code",
   "execution_count": 13,
   "metadata": {},
   "outputs": [
    {
     "data": {
      "text/plain": [
       "3    1564\n",
       "0    1302\n",
       "4     103\n",
       "5      45\n",
       "2      35\n",
       "Name: sum_of_reg_score, dtype: int64"
      ]
     },
     "execution_count": 13,
     "metadata": {},
     "output_type": "execute_result"
    }
   ],
   "source": [
    "nov17['sum_of_reg_score'].value_counts()"
   ]
  },
  {
   "cell_type": "code",
   "execution_count": 14,
   "metadata": {},
   "outputs": [
    {
     "name": "stdout",
     "output_type": "stream",
     "text": [
      "<class 'pandas.core.frame.DataFrame'>\n",
      "RangeIndex: 3049 entries, 0 to 3048\n",
      "Data columns (total 22 columns):\n",
      " #   Column                                    Non-Null Count  Dtype  \n",
      "---  ------                                    --------------  -----  \n",
      " 0   #1_amp_vendor_id_is_aduro_basics          3049 non-null   int64  \n",
      " 1   #2_temp_pw_is_false                       3049 non-null   int64  \n",
      " 2   #3_amp_matches_aduro_id_pattern           3049 non-null   int64  \n",
      " 3   #4_amp_authen_type_is_AWS_Cognito         3049 non-null   int64  \n",
      " 4   #5a_amp_company_has_users_has_user_id     3049 non-null   int64  \n",
      " 5   #5b_amp_company_has_users_has_company_id  3049 non-null   int64  \n",
      " 6   #6_program_service_program_user_has_user  3049 non-null   int64  \n",
      " 7   sum_of_reg_score                          3049 non-null   int64  \n",
      " 8   aduro_id                                  3049 non-null   object \n",
      " 9   amp_record_exists                         3049 non-null   bool   \n",
      " 10  amp_is_enabled                            1747 non-null   object \n",
      " 11  amp_email_confirmed                       1747 non-null   object \n",
      " 12  account_created                           3049 non-null   bool   \n",
      " 13  amp_authen_type                           60 non-null     object \n",
      " 14  account_status                            122 non-null    object \n",
      " 15  es_email                                  2467 non-null   object \n",
      " 16  amp_email                                 1747 non-null   object \n",
      " 17  es_interface_id                           2741 non-null   object \n",
      " 18  employer_id                               3049 non-null   object \n",
      " 19  program_service_employer_id               470 non-null    object \n",
      " 20  amp_employer_id                           1745 non-null   object \n",
      " 21  amp_client_id                             0 non-null      float64\n",
      "dtypes: bool(2), float64(1), int64(8), object(11)\n",
      "memory usage: 482.5+ KB\n"
     ]
    }
   ],
   "source": [
    "nov17.info()"
   ]
  },
  {
   "cell_type": "code",
   "execution_count": 17,
   "metadata": {},
   "outputs": [],
   "source": [
    "nov17_2= nov17[nov17['#1_amp_vendor_id_is_aduro_basics']<1]"
   ]
  },
  {
   "cell_type": "code",
   "execution_count": 18,
   "metadata": {},
   "outputs": [
    {
     "data": {
      "text/plain": [
       "0    1302\n",
       "Name: sum_of_reg_score, dtype: int64"
      ]
     },
     "execution_count": 18,
     "metadata": {},
     "output_type": "execute_result"
    }
   ],
   "source": [
    "nov17_2['sum_of_reg_score'].value_counts()"
   ]
  },
  {
   "cell_type": "code",
   "execution_count": 20,
   "metadata": {},
   "outputs": [],
   "source": [
    "nov17_3 = nov17[nov17['#2_temp_pw_is_false']<1]"
   ]
  },
  {
   "cell_type": "code",
   "execution_count": 22,
   "metadata": {},
   "outputs": [
    {
     "data": {
      "text/plain": [
       "0    1341\n",
       "Name: #2_temp_pw_is_false, dtype: int64"
      ]
     },
     "execution_count": 22,
     "metadata": {},
     "output_type": "execute_result"
    }
   ],
   "source": [
    "nov17_3['#2_temp_pw_is_false'].value_counts() #members who have 0 for #2_temp_pw_is_false"
   ]
  },
  {
   "cell_type": "code",
   "execution_count": 21,
   "metadata": {},
   "outputs": [
    {
     "data": {
      "text/plain": [
       "0    1302\n",
       "2      35\n",
       "4       4\n",
       "Name: sum_of_reg_score, dtype: int64"
      ]
     },
     "execution_count": 21,
     "metadata": {},
     "output_type": "execute_result"
    }
   ],
   "source": [
    "nov17_3['sum_of_reg_score'].value_counts()"
   ]
  },
  {
   "cell_type": "code",
   "execution_count": 25,
   "metadata": {},
   "outputs": [],
   "source": [
    "nov17_4 = nov17[nov17['#3_amp_matches_aduro_id_pattern']<1]"
   ]
  },
  {
   "cell_type": "code",
   "execution_count": 26,
   "metadata": {},
   "outputs": [
    {
     "data": {
      "text/plain": [
       "0    1302\n",
       "Name: sum_of_reg_score, dtype: int64"
      ]
     },
     "execution_count": 26,
     "metadata": {},
     "output_type": "execute_result"
    }
   ],
   "source": [
    "nov17_4['sum_of_reg_score'].value_counts() # of members with 0 in first and second row "
   ]
  },
  {
   "cell_type": "code",
   "execution_count": 27,
   "metadata": {},
   "outputs": [],
   "source": [
    "nov17_5 = nov17[nov17['#4_amp_authen_type_is_AWS_Cognito']<1]"
   ]
  },
  {
   "cell_type": "code",
   "execution_count": 28,
   "metadata": {},
   "outputs": [
    {
     "data": {
      "text/plain": [
       "3    1564\n",
       "0    1302\n",
       "4      88\n",
       "2      35\n",
       "Name: sum_of_reg_score, dtype: int64"
      ]
     },
     "execution_count": 28,
     "metadata": {},
     "output_type": "execute_result"
    }
   ],
   "source": [
    "nov17_5['sum_of_reg_score'].value_counts()"
   ]
  },
  {
   "cell_type": "code",
   "execution_count": 29,
   "metadata": {},
   "outputs": [],
   "source": [
    "nov17_6 = nov17[nov17['#5a_amp_company_has_users_has_user_id']<1]"
   ]
  },
  {
   "cell_type": "code",
   "execution_count": 30,
   "metadata": {},
   "outputs": [
    {
     "data": {
      "text/plain": [
       "3    1564\n",
       "0    1302\n",
       "2      35\n",
       "4      11\n",
       "Name: sum_of_reg_score, dtype: int64"
      ]
     },
     "execution_count": 30,
     "metadata": {},
     "output_type": "execute_result"
    }
   ],
   "source": [
    "nov17_6['sum_of_reg_score'].value_counts()"
   ]
  },
  {
   "cell_type": "code",
   "execution_count": null,
   "metadata": {},
   "outputs": [],
   "source": []
  }
 ],
 "metadata": {
  "kernelspec": {
   "display_name": "Python 3",
   "language": "python",
   "name": "python3"
  },
  "language_info": {
   "codemirror_mode": {
    "name": "ipython",
    "version": 3
   },
   "file_extension": ".py",
   "mimetype": "text/x-python",
   "name": "python",
   "nbconvert_exporter": "python",
   "pygments_lexer": "ipython3",
   "version": "3.8.3"
  }
 },
 "nbformat": 4,
 "nbformat_minor": 4
}
